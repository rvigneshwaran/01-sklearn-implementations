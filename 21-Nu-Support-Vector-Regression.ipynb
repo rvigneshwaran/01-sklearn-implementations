{
 "cells": [
  {
   "cell_type": "code",
   "execution_count": 1,
   "metadata": {},
   "outputs": [],
   "source": [
    "# Import necessary libraries\n",
    "import numpy as np\n",
    "import pandas as pd\n",
    "from sklearn.datasets import load_diabetes\n",
    "from sklearn.model_selection import train_test_split, cross_val_score\n",
    "from sklearn.preprocessing import StandardScaler\n",
    "from sklearn.svm import NuSVR\n",
    "from sklearn.metrics import mean_squared_error, r2_score"
   ]
  },
  {
   "cell_type": "code",
   "execution_count": 2,
   "metadata": {},
   "outputs": [],
   "source": [
    "# Load the Diabetes dataset\n",
    "diabetes = load_diabetes()\n",
    "diabetes_df = pd.DataFrame(data=np.c_[diabetes['data'], diabetes['target']],\n",
    "                            columns=np.append(diabetes['feature_names'], 'target'))\n"
   ]
  },
  {
   "cell_type": "code",
   "execution_count": 3,
   "metadata": {},
   "outputs": [],
   "source": [
    "# Feature Selection\n",
    "features = diabetes['feature_names']"
   ]
  },
  {
   "cell_type": "code",
   "execution_count": 4,
   "metadata": {},
   "outputs": [],
   "source": [
    "# Split the data into training and testing sets\n",
    "train_data, test_data = train_test_split(diabetes_df, test_size=0.2, random_state=42)\n"
   ]
  },
  {
   "cell_type": "code",
   "execution_count": 5,
   "metadata": {},
   "outputs": [],
   "source": [
    "# Preprocessing\n",
    "def preprocess_data(data, features):\n",
    "    X = data[features]\n",
    "    y = data['target']\n",
    "    scaler = StandardScaler()\n",
    "    X_scaled = scaler.fit_transform(X)\n",
    "    y = np.array(y).reshape(-1, 1)  # NuSVR expects 2D array for the target\n",
    "    y_scaled = scaler.fit_transform(y)\n",
    "    return X_scaled, y_scaled"
   ]
  },
  {
   "cell_type": "code",
   "execution_count": 6,
   "metadata": {},
   "outputs": [],
   "source": [
    "# Train a Nu-SVR model\n",
    "def train_nusvr(X_train, y_train):\n",
    "    nusvr_model = NuSVR(kernel='linear', nu=0.5)\n",
    "    nusvr_model.fit(X_train, y_train.ravel())\n",
    "    return nusvr_model"
   ]
  },
  {
   "cell_type": "code",
   "execution_count": 7,
   "metadata": {},
   "outputs": [],
   "source": [
    "# Evaluate the model\n",
    "def evaluate_model(model, X_test, y_test):\n",
    "    y_pred = model.predict(X_test)\n",
    "    y_pred = y_pred.reshape(-1, 1)  # Reshape predictions to match the target shape\n",
    "    mse = mean_squared_error(y_test, y_pred)\n",
    "    r2 = r2_score(y_test, y_pred)\n",
    "    return mse, r2"
   ]
  },
  {
   "cell_type": "code",
   "execution_count": 8,
   "metadata": {},
   "outputs": [],
   "source": [
    "# Cross-validate the model\n",
    "def cross_validate_nusvr(X, y, folds=5):\n",
    "    nusvr_model = NuSVR(kernel='linear', nu=0.5)\n",
    "    scores = cross_val_score(nusvr_model, X, y.ravel(), cv=folds, scoring='neg_mean_squared_error')\n",
    "    return scores"
   ]
  },
  {
   "cell_type": "code",
   "execution_count": 9,
   "metadata": {},
   "outputs": [],
   "source": [
    "# Preprocess the training data\n",
    "X_train_scaled, y_train_scaled = preprocess_data(train_data, features)"
   ]
  },
  {
   "cell_type": "code",
   "execution_count": 10,
   "metadata": {},
   "outputs": [],
   "source": [
    "# Train a Nu-SVR model\n",
    "nusvr_model = train_nusvr(X_train_scaled, y_train_scaled)"
   ]
  },
  {
   "cell_type": "code",
   "execution_count": 11,
   "metadata": {},
   "outputs": [],
   "source": [
    "# Preprocess the test data\n",
    "X_test_scaled, y_test_scaled = preprocess_data(test_data, features)"
   ]
  },
  {
   "cell_type": "code",
   "execution_count": 12,
   "metadata": {},
   "outputs": [
    {
     "name": "stdout",
     "output_type": "stream",
     "text": [
      "Mean Squared Error on the test set: 0.55\n",
      "R-squared score on the test set: 0.45\n"
     ]
    }
   ],
   "source": [
    "# Evaluate the model\n",
    "mse, r2 = evaluate_model(nusvr_model, X_test_scaled, y_test_scaled)\n",
    "print(f'Mean Squared Error on the test set: {mse:.2f}')\n",
    "print(f'R-squared score on the test set: {r2:.2f}')"
   ]
  },
  {
   "cell_type": "code",
   "execution_count": 13,
   "metadata": {},
   "outputs": [
    {
     "name": "stdout",
     "output_type": "stream",
     "text": [
      "\n",
      "Cross-Validation Mean Squared Errors: [-0.4675857  -0.52208899 -0.54907258 -0.51230895 -0.49350211]\n"
     ]
    }
   ],
   "source": [
    "# Cross-validate the model\n",
    "X_all_scaled, y_all_scaled = preprocess_data(diabetes_df, features)\n",
    "cross_val_scores = cross_validate_nusvr(X_all_scaled, y_all_scaled)\n",
    "print(f'\\nCross-Validation Mean Squared Errors: {cross_val_scores}')\n"
   ]
  }
 ],
 "metadata": {
  "kernelspec": {
   "display_name": "Python 3",
   "language": "python",
   "name": "python3"
  },
  "language_info": {
   "codemirror_mode": {
    "name": "ipython",
    "version": 3
   },
   "file_extension": ".py",
   "mimetype": "text/x-python",
   "name": "python",
   "nbconvert_exporter": "python",
   "pygments_lexer": "ipython3",
   "version": "3.11.2"
  }
 },
 "nbformat": 4,
 "nbformat_minor": 2
}
