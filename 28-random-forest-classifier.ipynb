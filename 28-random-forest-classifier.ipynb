{
 "cells": [
  {
   "cell_type": "code",
   "execution_count": 1,
   "metadata": {},
   "outputs": [],
   "source": [
    "# Import necessary libraries\n",
    "import numpy as np\n",
    "import pandas as pd\n",
    "from sklearn.datasets import load_wine\n",
    "from sklearn.model_selection import train_test_split, GridSearchCV\n",
    "from sklearn.ensemble import RandomForestClassifier\n",
    "from sklearn.metrics import accuracy_score, classification_report, confusion_matrix\n",
    "from sklearn.preprocessing import StandardScaler\n",
    "import matplotlib.pyplot as plt\n",
    "import seaborn as sns"
   ]
  },
  {
   "cell_type": "code",
   "execution_count": 2,
   "metadata": {},
   "outputs": [],
   "source": [
    "# Load the Wine dataset\n",
    "wine = load_wine()\n",
    "wine_df = pd.DataFrame(data=np.c_[wine['data'], wine['target']],\n",
    "                        columns=np.append(wine['feature_names'], 'target'))"
   ]
  },
  {
   "cell_type": "code",
   "execution_count": 3,
   "metadata": {},
   "outputs": [],
   "source": [
    "# Feature selection and feature engineering\n",
    "features = wine['feature_names']"
   ]
  },
  {
   "cell_type": "code",
   "execution_count": 4,
   "metadata": {},
   "outputs": [],
   "source": [
    "# Split the data into training and testing sets\n",
    "train_data, test_data = train_test_split(wine_df, test_size=0.2, random_state=42)"
   ]
  },
  {
   "cell_type": "code",
   "execution_count": 5,
   "metadata": {},
   "outputs": [],
   "source": [
    "# Preprocessing\n",
    "def preprocess_data(data, features):\n",
    "    X = data[features]\n",
    "    y = data['target']\n",
    "    scaler = StandardScaler()\n",
    "    X_scaled = scaler.fit_transform(X)\n",
    "    return X_scaled, y"
   ]
  },
  {
   "cell_type": "code",
   "execution_count": 12,
   "metadata": {},
   "outputs": [],
   "source": [
    "# Train a RandomForestClassifier model\n",
    "def train_random_forest(X_train, y_train, n_estimators=100, max_depth=None):\n",
    "    rf_model = RandomForestClassifier(n_estimators=n_estimators, max_depth=max_depth, random_state=42)\n",
    "    rf_model.fit(X_train, y_train)\n",
    "    return rf_model"
   ]
  },
  {
   "cell_type": "code",
   "execution_count": 7,
   "metadata": {},
   "outputs": [],
   "source": [
    "# Evaluate the model\n",
    "def evaluate_model(model, X_test, y_test):\n",
    "    y_pred = model.predict(X_test)\n",
    "    accuracy = accuracy_score(y_test, y_pred)\n",
    "    report = classification_report(y_test, y_pred)\n",
    "    matrix = confusion_matrix(y_test, y_pred)\n",
    "    return accuracy, report, matrix"
   ]
  },
  {
   "cell_type": "code",
   "execution_count": 8,
   "metadata": {},
   "outputs": [],
   "source": [
    "# Model tweaking, regularization, and hyperparameter tuning\n",
    "def hyperparameter_tuning(X_train, y_train):\n",
    "    param_grid = {\n",
    "        'n_estimators': [50, 100, 200],\n",
    "        'max_depth': [None, 10, 20, 30],\n",
    "    }\n",
    "    rf_model = RandomForestClassifier(random_state=42)\n",
    "    grid_search = GridSearchCV(estimator=rf_model, param_grid=param_grid, cv=3, scoring='accuracy')\n",
    "    grid_search.fit(X_train, y_train)\n",
    "    return grid_search.best_params_"
   ]
  },
  {
   "cell_type": "code",
   "execution_count": 9,
   "metadata": {},
   "outputs": [],
   "source": [
    "# Making Predictions with test data\n",
    "def make_predictions(model, X_test, features):\n",
    "    predictions = model.predict(X_test)\n",
    "    results_df = pd.DataFrame({'Actual': test_data['target'].values, 'Predicted': predictions})\n",
    "    results_df['Class'] = results_df['Actual'].map({0: 'class_0', 1: 'class_1', 2: 'class_2'})\n",
    "    results_df['Predicted_Class'] = results_df['Predicted'].map({0: 'class_0', 1: 'class_1', 2: 'class_2'})\n",
    "    return results_df"
   ]
  },
  {
   "cell_type": "code",
   "execution_count": 10,
   "metadata": {},
   "outputs": [],
   "source": [
    "# Preprocess the training data\n",
    "X_train_scaled, y_train = preprocess_data(train_data, features)"
   ]
  },
  {
   "cell_type": "code",
   "execution_count": 13,
   "metadata": {},
   "outputs": [],
   "source": [
    "# Train a RandomForestClassifier model\n",
    "rf_model = train_random_forest(X_train_scaled, y_train)"
   ]
  },
  {
   "cell_type": "code",
   "execution_count": 14,
   "metadata": {},
   "outputs": [
    {
     "name": "stdout",
     "output_type": "stream",
     "text": [
      "Accuracy of the model on the test set: 1.00\n",
      "\n",
      "Classification Report:\n",
      "              precision    recall  f1-score   support\n",
      "\n",
      "         0.0       1.00      1.00      1.00        14\n",
      "         1.0       1.00      1.00      1.00        14\n",
      "         2.0       1.00      1.00      1.00         8\n",
      "\n",
      "    accuracy                           1.00        36\n",
      "   macro avg       1.00      1.00      1.00        36\n",
      "weighted avg       1.00      1.00      1.00        36\n",
      "\n",
      "\n",
      "Confusion Matrix:\n",
      "[[14  0  0]\n",
      " [ 0 14  0]\n",
      " [ 0  0  8]]\n"
     ]
    }
   ],
   "source": [
    "# Evaluate the model\n",
    "X_test_scaled, y_test = preprocess_data(test_data, features)\n",
    "accuracy, report, confusion_matrix = evaluate_model(rf_model, X_test_scaled, y_test)\n",
    "print(f'Accuracy of the model on the test set: {accuracy:.2f}')\n",
    "print('\\nClassification Report:')\n",
    "print(report)\n",
    "print('\\nConfusion Matrix:')\n",
    "print(confusion_matrix)"
   ]
  },
  {
   "cell_type": "code",
   "execution_count": 15,
   "metadata": {},
   "outputs": [
    {
     "name": "stdout",
     "output_type": "stream",
     "text": [
      "\n",
      "Best Hyperparameters: {'max_depth': None, 'n_estimators': 100}\n"
     ]
    }
   ],
   "source": [
    "# Hyperparameter tuning\n",
    "best_params = hyperparameter_tuning(X_train_scaled, y_train)\n",
    "print('\\nBest Hyperparameters:', best_params)"
   ]
  },
  {
   "cell_type": "code",
   "execution_count": 16,
   "metadata": {},
   "outputs": [
    {
     "name": "stdout",
     "output_type": "stream",
     "text": [
      "\n",
      "Test Data Predictions:\n",
      "    Actual  Predicted    Class Predicted_Class\n",
      "0      0.0        0.0  class_0         class_0\n",
      "1      0.0        0.0  class_0         class_0\n",
      "2      2.0        2.0  class_2         class_2\n",
      "3      0.0        0.0  class_0         class_0\n",
      "4      1.0        1.0  class_1         class_1\n",
      "5      0.0        0.0  class_0         class_0\n",
      "6      1.0        1.0  class_1         class_1\n",
      "7      2.0        2.0  class_2         class_2\n",
      "8      1.0        1.0  class_1         class_1\n",
      "9      2.0        2.0  class_2         class_2\n",
      "10     0.0        0.0  class_0         class_0\n",
      "11     2.0        2.0  class_2         class_2\n",
      "12     0.0        0.0  class_0         class_0\n",
      "13     1.0        1.0  class_1         class_1\n",
      "14     0.0        0.0  class_0         class_0\n",
      "15     1.0        1.0  class_1         class_1\n",
      "16     1.0        1.0  class_1         class_1\n",
      "17     1.0        1.0  class_1         class_1\n",
      "18     0.0        0.0  class_0         class_0\n",
      "19     1.0        1.0  class_1         class_1\n",
      "20     0.0        0.0  class_0         class_0\n",
      "21     1.0        1.0  class_1         class_1\n",
      "22     1.0        1.0  class_1         class_1\n",
      "23     2.0        2.0  class_2         class_2\n",
      "24     2.0        2.0  class_2         class_2\n",
      "25     2.0        2.0  class_2         class_2\n",
      "26     1.0        1.0  class_1         class_1\n",
      "27     1.0        1.0  class_1         class_1\n",
      "28     1.0        1.0  class_1         class_1\n",
      "29     0.0        0.0  class_0         class_0\n",
      "30     0.0        0.0  class_0         class_0\n",
      "31     1.0        1.0  class_1         class_1\n",
      "32     2.0        2.0  class_2         class_2\n",
      "33     0.0        0.0  class_0         class_0\n",
      "34     0.0        0.0  class_0         class_0\n",
      "35     0.0        0.0  class_0         class_0\n"
     ]
    }
   ],
   "source": [
    "# Make predictions with test data\n",
    "results_df = make_predictions(rf_model, X_test_scaled, features)\n",
    "print('\\nTest Data Predictions:')\n",
    "print(results_df)"
   ]
  },
  {
   "cell_type": "code",
   "execution_count": 17,
   "metadata": {},
   "outputs": [
    {
     "data": {
      "image/png": "[encoded data removed]",
      "text/plain": [
       "<Figure size 1000x600 with 1 Axes>"
      ]
     },
     "metadata": {},
     "output_type": "display_data"
    }
   ],
   "source": [
    "# Visualize feature importance\n",
    "feature_importance = pd.DataFrame({'Feature': features, 'Importance': rf_model.feature_importances_})\n",
    "feature_importance = feature_importance.sort_values(by='Importance', ascending=False)\n",
    "plt.figure(figsize=(10, 6))\n",
    "sns.barplot(x='Importance', y='Feature', data=feature_importance, palette='viridis')\n",
    "plt.title('Feature Importance')\n",
    "plt.show()"
   ]
  }
 ],
 "metadata": {
  "kernelspec": {
   "display_name": "Python 3",
   "language": "python",
   "name": "python3"
  },
  "language_info": {
   "codemirror_mode": {
    "name": "ipython",
    "version": 3
   },
   "file_extension": ".py",
   "mimetype": "text/x-python",
   "name": "python",
   "nbconvert_exporter": "python",
   "pygments_lexer": "ipython3",
   "version": "3.11.2"
  }
 },
 "nbformat": 4,
 "nbformat_minor": 2
}
