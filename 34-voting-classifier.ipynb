{
 "cells": [
  {
   "cell_type": "code",
   "execution_count": 7,
   "metadata": {},
   "outputs": [],
   "source": [
    "# Import necessary libraries\n",
    "import numpy as np\n",
    "import pandas as pd\n",
    "from sklearn.datasets import load_digits\n",
    "from sklearn.model_selection import train_test_split\n",
    "from sklearn.ensemble import RandomForestClassifier, GradientBoostingClassifier, VotingClassifier\n",
    "from sklearn.linear_model import LogisticRegression\n",
    "from sklearn.metrics import accuracy_score, classification_report, confusion_matrix\n"
   ]
  },
  {
   "cell_type": "code",
   "execution_count": 8,
   "metadata": {},
   "outputs": [],
   "source": [
    "# Load the Digits dataset\n",
    "digits = load_digits()\n",
    "digits_df = pd.DataFrame(data=np.c_[digits['data'], digits['target']],\n",
    "                          columns=np.append([f'pixel_{i}' for i in range(64)], 'target'))\n"
   ]
  },
  {
   "cell_type": "code",
   "execution_count": 9,
   "metadata": {},
   "outputs": [],
   "source": [
    "# Feature selection and feature engineering\n",
    "features = [f'pixel_{i}' for i in range(64)]"
   ]
  },
  {
   "cell_type": "code",
   "execution_count": 10,
   "metadata": {},
   "outputs": [],
   "source": [
    "# Split the data into training and testing sets\n",
    "train_data, test_data = train_test_split(digits_df, test_size=0.2, random_state=42)\n"
   ]
  },
  {
   "cell_type": "code",
   "execution_count": 11,
   "metadata": {},
   "outputs": [],
   "source": [
    "# Train a VotingClassifier model\n",
    "def train_voting_classifier(X_train, y_train):\n",
    "    # Define individual classifiers\n",
    "    clf1 = RandomForestClassifier(n_estimators=50, random_state=42)\n",
    "    clf2 = GradientBoostingClassifier(n_estimators=50, random_state=42)\n",
    "    clf3 = LogisticRegression(random_state=42)\n",
    "\n",
    "    # Create a VotingClassifier\n",
    "    voting_classifier = VotingClassifier(estimators=[('rf', clf1), ('gb', clf2), ('lr', clf3)], voting='soft')\n",
    "    voting_classifier.fit(X_train, y_train)\n",
    "    return voting_classifier"
   ]
  },
  {
   "cell_type": "code",
   "execution_count": 12,
   "metadata": {},
   "outputs": [],
   "source": [
    "# Evaluate the model\n",
    "def evaluate_model(model, X_test, y_test):\n",
    "    y_pred = model.predict(X_test)\n",
    "    accuracy = accuracy_score(y_test, y_pred)\n",
    "    report = classification_report(y_test, y_pred)\n",
    "    matrix = confusion_matrix(y_test, y_pred)\n",
    "    return accuracy, report, matrix"
   ]
  },
  {
   "cell_type": "code",
   "execution_count": 13,
   "metadata": {},
   "outputs": [],
   "source": [
    "# Making Predictions with test data\n",
    "def make_predictions(model, X_test, features):\n",
    "    predictions = model.predict(X_test)\n",
    "    results_df = pd.DataFrame({'Actual': test_data['target'].values, 'Predicted': predictions})\n",
    "    return results_df"
   ]
  },
  {
   "cell_type": "code",
   "execution_count": 14,
   "metadata": {},
   "outputs": [],
   "source": [
    "# Preprocess the training data\n",
    "X_train, y_train = train_data[features], train_data['target']"
   ]
  },
  {
   "cell_type": "code",
   "execution_count": 15,
   "metadata": {},
   "outputs": [
    {
     "name": "stderr",
     "output_type": "stream",
     "text": [
      "C:\\Users\\rvign\\AppData\\Roaming\\Python\\Python311\\site-packages\\sklearn\\linear_model\\_logistic.py:460: ConvergenceWarning: lbfgs failed to converge (status=1):\n",
      "STOP: TOTAL NO. of ITERATIONS REACHED LIMIT.\n",
      "\n",
      "Increase the number of iterations (max_iter) or scale the data as shown in:\n",
      "    https://scikit-learn.org/stable/modules/preprocessing.html\n",
      "Please also refer to the documentation for alternative solver options:\n",
      "    https://scikit-learn.org/stable/modules/linear_model.html#logistic-regression\n",
      "  n_iter_i = _check_optimize_result(\n"
     ]
    }
   ],
   "source": [
    " # Train a VotingClassifier model\n",
    "voting_classifier = train_voting_classifier(X_train, y_train)"
   ]
  },
  {
   "cell_type": "code",
   "execution_count": 16,
   "metadata": {},
   "outputs": [
    {
     "name": "stdout",
     "output_type": "stream",
     "text": [
      "Accuracy of the model on the test set: 0.97\n",
      "\n",
      "Classification Report:\n",
      "              precision    recall  f1-score   support\n",
      "\n",
      "         0.0       1.00      1.00      1.00        33\n",
      "         1.0       0.97      1.00      0.98        28\n",
      "         2.0       1.00      1.00      1.00        33\n",
      "         3.0       0.97      0.97      0.97        34\n",
      "         4.0       1.00      0.98      0.99        46\n",
      "         5.0       0.94      0.96      0.95        47\n",
      "         6.0       0.97      0.97      0.97        35\n",
      "         7.0       1.00      0.97      0.99        34\n",
      "         8.0       0.97      0.97      0.97        30\n",
      "         9.0       0.95      0.95      0.95        40\n",
      "\n",
      "    accuracy                           0.97       360\n",
      "   macro avg       0.98      0.98      0.98       360\n",
      "weighted avg       0.98      0.97      0.98       360\n",
      "\n",
      "\n",
      "Confusion Matrix:\n",
      "[[33  0  0  0  0  0  0  0  0  0]\n",
      " [ 0 28  0  0  0  0  0  0  0  0]\n",
      " [ 0  0 33  0  0  0  0  0  0  0]\n",
      " [ 0  0  0 33  0  1  0  0  0  0]\n",
      " [ 0  1  0  0 45  0  0  0  0  0]\n",
      " [ 0  0  0  0  0 45  1  0  0  1]\n",
      " [ 0  0  0  0  0  1 34  0  0  0]\n",
      " [ 0  0  0  0  0  0  0 33  0  1]\n",
      " [ 0  0  0  0  0  1  0  0 29  0]\n",
      " [ 0  0  0  1  0  0  0  0  1 38]]\n"
     ]
    }
   ],
   "source": [
    "# Evaluate the model\n",
    "X_test, y_test = test_data[features], test_data['target']\n",
    "accuracy, report, confusion_matrix = evaluate_model(voting_classifier, X_test, y_test)\n",
    "print(f'Accuracy of the model on the test set: {accuracy:.2f}')\n",
    "print('\\nClassification Report:')\n",
    "print(report)\n",
    "print('\\nConfusion Matrix:')\n",
    "print(confusion_matrix)"
   ]
  },
  {
   "cell_type": "code",
   "execution_count": 17,
   "metadata": {},
   "outputs": [
    {
     "name": "stdout",
     "output_type": "stream",
     "text": [
      "\n",
      "Test Data Predictions:\n",
      "     Actual  Predicted\n",
      "0       6.0        6.0\n",
      "1       9.0        9.0\n",
      "2       3.0        3.0\n",
      "3       7.0        7.0\n",
      "4       2.0        2.0\n",
      "..      ...        ...\n",
      "355     4.0        4.0\n",
      "356     3.0        3.0\n",
      "357     8.0        8.0\n",
      "358     3.0        3.0\n",
      "359     5.0        5.0\n",
      "\n",
      "[360 rows x 2 columns]\n"
     ]
    }
   ],
   "source": [
    "# Make predictions with test data\n",
    "results_df = make_predictions(voting_classifier, X_test, features)\n",
    "print('\\nTest Data Predictions:')\n",
    "print(results_df)"
   ]
  }
 ],
 "metadata": {
  "kernelspec": {
   "display_name": "Python 3",
   "language": "python",
   "name": "python3"
  },
  "language_info": {
   "codemirror_mode": {
    "name": "ipython",
    "version": 3
   },
   "file_extension": ".py",
   "mimetype": "text/x-python",
   "name": "python",
   "nbconvert_exporter": "python",
   "pygments_lexer": "ipython3",
   "version": "3.11.2"
  }
 },
 "nbformat": 4,
 "nbformat_minor": 2
}
